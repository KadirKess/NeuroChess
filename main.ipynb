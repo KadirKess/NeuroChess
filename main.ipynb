{
  "cells": [
    {
      "cell_type": "code",
      "execution_count": null,
      "id": "rBfL4GdLMQyY",
      "metadata": {
        "id": "rBfL4GdLMQyY"
      },
      "outputs": [],
      "source": [
        "# !pip install -r requirements.txt"
      ]
    },
    {
      "cell_type": "code",
      "execution_count": null,
      "id": "1702c06f",
      "metadata": {
        "id": "1702c06f"
      },
      "outputs": [],
      "source": [
        "# Imports\n",
        "\n",
        "import torch\n",
        "import torch.nn as nn\n",
        "import torch.optim as optim\n",
        "from torch.optim.lr_scheduler import ReduceLROnPlateau\n",
        "\n",
        "import kagglehub as kh\n",
        "import wandb\n",
        "from tqdm import tqdm\n",
        "\n",
        "import matplotlib.pyplot as plt\n",
        "\n",
        "# Local imports\n",
        "\n",
        "from src.dataset import PositionsDataset\n",
        "from src.model import ChessResNetModel\n",
        "from src.training import create_dataloaders, training\n",
        "from src.early_stopping import EarlyStopping"
      ]
    },
    {
      "cell_type": "code",
      "execution_count": null,
      "id": "28447027",
      "metadata": {
        "id": "28447027"
      },
      "outputs": [],
      "source": [
        "# Device configuration\n",
        "device = torch.device(\n",
        "    \"cuda\" if torch.cuda.is_available()\n",
        "    else \"mps\" if torch.backends.mps.is_available()\n",
        "    else \"cpu\"\n",
        ")\n",
        "print(f\"Using device: {device}\")"
      ]
    },
    {
      "cell_type": "code",
      "execution_count": null,
      "id": "6863e627",
      "metadata": {
        "id": "6863e627"
      },
      "outputs": [],
      "source": [
        "# Download the parquet\n",
        "parquet_path = kh.dataset_download(\n",
        "    handle=\"lichess/chess-evaluations\", path=\"train-00000-of-00013.parquet\"\n",
        ")"
      ]
    },
    {
      "cell_type": "code",
      "execution_count": null,
      "id": "9ce371e2",
      "metadata": {
        "id": "9ce371e2"
      },
      "outputs": [],
      "source": [
        "# Dataset and Dataloaders\n",
        "\n",
        "dataset = PositionsDataset(parquet_path)"
      ]
    },
    {
      "cell_type": "code",
      "execution_count": null,
      "id": "gt8hF6icHU1g",
      "metadata": {
        "id": "gt8hF6icHU1g"
      },
      "outputs": [],
      "source": [
        "training_dataloader, validation_dataloader = create_dataloaders(dataset, 2048)"
      ]
    },
    {
      "cell_type": "code",
      "execution_count": null,
      "id": "ada33495",
      "metadata": {
        "id": "ada33495"
      },
      "outputs": [],
      "source": [
        "# Test device configuration\n",
        "print(f\"Device being used: {device}\")\n",
        "print(f\"CUDA available: {torch.cuda.is_available()}\")\n",
        "print(f\"MPS available: {torch.backends.mps.is_available()}\")\n",
        "\n",
        "# Test tensor creation on device\n",
        "test_tensor = torch.randn(3, 3).to(device)\n",
        "print(f\"Test tensor device: {test_tensor.device}\")\n",
        "\n",
        "# Test model device\n",
        "test_model = ChessResNetModel().to(device)\n",
        "print(f\"Model device: {next(test_model.parameters()).device}\")\n",
        "\n",
        "del test_tensor, test_model  # Clean up"
      ]
    },
    {
      "cell_type": "code",
      "execution_count": null,
      "id": "8931e79e",
      "metadata": {
        "id": "8931e79e"
      },
      "outputs": [],
      "source": [
        "# Start training\n",
        "\n",
        "model = ChessResNetModel().to(device)\n",
        "optimizer = optim.Adam(model.parameters(), lr=1e-3)\n",
        "scheduler = ReduceLROnPlateau(optimizer, factor=0.5, patience=5)\n",
        "criterion = [\n",
        "    nn.CrossEntropyLoss(),\n",
        "    nn.MSELoss(),\n",
        "    nn.CrossEntropyLoss()\n",
        "]\n",
        "save_dir = \".\"\n",
        "early_stopping = EarlyStopping(patience=10)\n",
        "\n",
        "train_losses, validation_losses = training(\n",
        "    model=model,\n",
        "    epochs=100,\n",
        "    train_loader=training_dataloader,\n",
        "    val_loader=validation_dataloader,\n",
        "    optimizer=optimizer,\n",
        "    scheduler=scheduler,\n",
        "    early_stopping=early_stopping,\n",
        "    criterion=criterion,\n",
        "    save_dir=save_dir,\n",
        "    device=device\n",
        ")"
      ]
    },
    {
      "cell_type": "code",
      "execution_count": null,
      "id": "13d9312d",
      "metadata": {},
      "outputs": [],
      "source": [
        "# Plot training and validation loss\n",
        "plt.figure(figsize=(10, 5))\n",
        "plt.plot(train_losses, label=\"Training Loss\")\n",
        "plt.plot(validation_losses, label=\"Validation Loss\")\n",
        "plt.xlabel(\"Epoch\")\n",
        "plt.ylabel(\"Loss\")\n",
        "plt.title(\"Training and Validation Loss\")\n",
        "plt.legend()\n",
        "plt.show()"
      ]
    }
  ],
  "metadata": {
    "accelerator": "GPU",
    "colab": {
      "gpuType": "L4",
      "machine_shape": "hm",
      "provenance": []
    },
    "kernelspec": {
      "display_name": "chess_engine",
      "language": "python",
      "name": "python3"
    },
    "language_info": {
      "codemirror_mode": {
        "name": "ipython",
        "version": 3
      },
      "file_extension": ".py",
      "mimetype": "text/x-python",
      "name": "python",
      "nbconvert_exporter": "python",
      "pygments_lexer": "ipython3",
      "version": "3.11.13"
    }
  },
  "nbformat": 4,
  "nbformat_minor": 5
}
