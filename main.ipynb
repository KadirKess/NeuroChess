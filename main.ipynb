{
 "cells": [
  {
   "cell_type": "code",
   "execution_count": null,
   "id": "1702c06f",
   "metadata": {},
   "outputs": [],
   "source": [
    "# Imports\n",
    "\n",
    "import torch\n",
    "import torch.nn as nn\n",
    "import torch.optim as optim\n",
    "from torch.optim.lr_scheduler import ReduceLROnPlateau\n",
    "\n",
    "import kagglehub as kh\n",
    "import wandb\n",
    "from tqdm import tqdm\n",
    "\n",
    "# Local imports\n",
    "\n",
    "from src.dataset import PositionsDataset\n",
    "from src.model import ChessResNetModel\n",
    "from src.training import create_dataloaders, training\n",
    "from src.preprocess import preprocess_data_in_chunks"
   ]
  },
  {
   "cell_type": "code",
   "execution_count": null,
   "id": "28447027",
   "metadata": {},
   "outputs": [],
   "source": [
    "# Device configuration\n",
    "device = torch.device(\n",
    "    \"cuda\" if torch.cuda.is_available() \n",
    "    else \"mps\" if torch.backends.mps.is_available() \n",
    "    else \"cpu\"\n",
    ")\n",
    "print(f\"Using device: {device}\")"
   ]
  },
  {
   "cell_type": "code",
   "execution_count": null,
   "id": "6863e627",
   "metadata": {},
   "outputs": [],
   "source": [
    "# Download the parquet\n",
    "parquet_path = kh.dataset_download(\n",
    "    handle=\"lichess/chess-evaluations\", path=\"train-00000-of-00013.parquet\"\n",
    ")"
   ]
  },
  {
   "cell_type": "code",
   "execution_count": null,
   "id": "84f19e5e",
   "metadata": {},
   "outputs": [],
   "source": [
    "# Preprocess Data\n",
    "\n",
    "destination_path = \"processed_data\"\n",
    "\n",
    "preprocess_data_in_chunks(parquet_path, destination_path)"
   ]
  },
  {
   "cell_type": "code",
   "execution_count": null,
   "id": "16315b66",
   "metadata": {},
   "outputs": [],
   "source": [
    "# Dataset and Dataloaders\n",
    "\n",
    "dataset = PositionsDataset(data_path=destination_path)\n",
    "training_dataloader, validation_dataloader = create_dataloaders(dataset)\n"
   ]
  },
  {
   "cell_type": "code",
   "execution_count": null,
   "id": "ada33495",
   "metadata": {},
   "outputs": [],
   "source": [
    "# Test device configuration\n",
    "print(f\"Device being used: {device}\")\n",
    "print(f\"CUDA available: {torch.cuda.is_available()}\")\n",
    "print(f\"MPS available: {torch.backends.mps.is_available()}\")\n",
    "\n",
    "# Test tensor creation on device\n",
    "test_tensor = torch.randn(3, 3).to(device)\n",
    "print(f\"Test tensor device: {test_tensor.device}\")\n",
    "\n",
    "# Test model device\n",
    "test_model = ChessResNetModel().to(device)\n",
    "print(f\"Model device: {next(test_model.parameters()).device}\")\n",
    "\n",
    "del test_tensor, test_model  # Clean up"
   ]
  },
  {
   "cell_type": "code",
   "execution_count": null,
   "id": "8931e79e",
   "metadata": {},
   "outputs": [],
   "source": [
    "# Start training\n",
    "\n",
    "model = ChessResNetModel().to(device)\n",
    "optimizer = optim.Adam(model.parameters(), lr=1e-3)\n",
    "scheduler = ReduceLROnPlateau(optimizer, factor=0.5, patience=10)\n",
    "criterion = [\n",
    "    nn.CrossEntropyLoss(),\n",
    "    nn.MSELoss(),\n",
    "    nn.CrossEntropyLoss()\n",
    "]\n",
    "save_dir = \".\"\n",
    "\n",
    "training(\n",
    "    model=model,\n",
    "    epochs=10,\n",
    "    train_loader=training_dataloader,\n",
    "    val_loader=validation_dataloader,\n",
    "    optimizer=optimizer,\n",
    "    scheduler=scheduler,\n",
    "    criterion=criterion,\n",
    "    save_dir=save_dir,\n",
    "    device=device\n",
    ")"
   ]
  }
 ],
 "metadata": {
  "kernelspec": {
   "display_name": "chess_engine",
   "language": "python",
   "name": "python3"
  },
  "language_info": {
   "codemirror_mode": {
    "name": "ipython",
    "version": 3
   },
   "file_extension": ".py",
   "mimetype": "text/x-python",
   "name": "python",
   "nbconvert_exporter": "python",
   "pygments_lexer": "ipython3",
   "version": "3.11.13"
  }
 },
 "nbformat": 4,
 "nbformat_minor": 5
}
