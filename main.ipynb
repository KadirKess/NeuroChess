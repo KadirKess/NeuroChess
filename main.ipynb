{
 "cells": [
  {
   "cell_type": "code",
   "execution_count": null,
   "id": "1702c06f",
   "metadata": {},
   "outputs": [],
   "source": [
    "# Imports\n",
    "\n",
    "import torch\n",
    "import torch.nn as nn\n",
    "import torch.optim as optim\n",
    "from torch.optim.lr_scheduler import ReduceLROnPlateau\n",
    "\n",
    "import kagglehub as kh\n",
    "import wandb\n",
    "from tqdm import tqdm\n",
    "\n",
    "# Local imports\n",
    "\n",
    "from src.dataset import PositionsDataset\n",
    "from src.model import ChessResNetModel\n",
    "from src.training import create_dataloaders, training"
   ]
  },
  {
   "cell_type": "code",
   "execution_count": null,
   "id": "6863e627",
   "metadata": {},
   "outputs": [],
   "source": [
    "# Download the parquet\n",
    "parquet_path = kh.dataset_download(\n",
    "    handle=\"lichess/chess-evaluations\", path=\"train-00000-of-00013.parquet\"\n",
    ")"
   ]
  },
  {
   "cell_type": "code",
   "execution_count": null,
   "id": "16315b66",
   "metadata": {},
   "outputs": [],
   "source": [
    "# Dataset and Dataloaders\n",
    "\n",
    "dataset = PositionsDataset(parquet_path)\n",
    "\n",
    "training_dataloader, validation_dataloader = create_dataloaders(dataset, batch_size=2048)"
   ]
  },
  {
   "cell_type": "code",
   "execution_count": null,
   "id": "8931e79e",
   "metadata": {},
   "outputs": [],
   "source": [
    "# Start training\n",
    "\n",
    "model = ChessResNetModel()\n",
    "optimizer = optim.Adam(model.parameters(), lr=1e-3)\n",
    "scheduler = ReduceLROnPlateau(optimizer, factor=0.5, patience=10, verbose=True)\n",
    "criterion = [\n",
    "    nn.CrossEntropyLoss(),\n",
    "    nn.MSELoss(),\n",
    "    nn.CrossEntropyLoss()\n",
    "]\n",
    "save_dir = \".\"\n",
    "\n",
    "training(\n",
    "    model=model,\n",
    "    epochs=10,\n",
    "    train_loader=training_dataloader,\n",
    "    optimizer=optimizer,\n",
    "    scheduler=scheduler,\n",
    "    criterion=criterion,\n",
    "    save_dir=save_dir\n",
    ")\n"
   ]
  }
 ],
 "metadata": {
  "kernelspec": {
   "display_name": "chess_engine",
   "language": "python",
   "name": "python3"
  },
  "language_info": {
   "codemirror_mode": {
    "name": "ipython",
    "version": 3
   },
   "file_extension": ".py",
   "mimetype": "text/x-python",
   "name": "python",
   "nbconvert_exporter": "python",
   "pygments_lexer": "ipython3",
   "version": "3.11.13"
  }
 },
 "nbformat": 4,
 "nbformat_minor": 5
}
